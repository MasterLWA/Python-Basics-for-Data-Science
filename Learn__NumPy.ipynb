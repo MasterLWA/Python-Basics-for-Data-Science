{
  "nbformat": 4,
  "nbformat_minor": 0,
  "metadata": {
    "colab": {
      "provenance": [],
      "authorship_tag": "ABX9TyOPL8iVG2miS7+vtBo9pYaa",
      "include_colab_link": true
    },
    "kernelspec": {
      "name": "python3",
      "display_name": "Python 3"
    },
    "language_info": {
      "name": "python"
    }
  },
  "cells": [
    {
      "cell_type": "markdown",
      "metadata": {
        "id": "view-in-github",
        "colab_type": "text"
      },
      "source": [
        "<a href=\"https://colab.research.google.com/github/MasterLWA/Python-Basics-for-Data-Science/blob/main/Learn__NumPy.ipynb\" target=\"_parent\"><img src=\"https://colab.research.google.com/assets/colab-badge.svg\" alt=\"Open In Colab\"/></a>"
      ]
    },
    {
      "cell_type": "markdown",
      "source": [
        "NumPy is used for working with arrays.\n"
      ],
      "metadata": {
        "id": "ZvQnJEqCijNB"
      }
    },
    {
      "cell_type": "code",
      "execution_count": 37,
      "metadata": {
        "id": "mqTHdaC6ie_q"
      },
      "outputs": [],
      "source": [
        "import numpy as np"
      ]
    },
    {
      "cell_type": "markdown",
      "source": [
        "* we use np.array() to create array in NumPy\n",
        "* also we can access values in the nparray by their index number"
      ],
      "metadata": {
        "id": "c7mIzNb0qchA"
      }
    },
    {
      "cell_type": "code",
      "source": [
        "arr = np.array([1, 2, 3, 4, 5, 6, 7, 8, 9, 10, 11, 12, 13])\n",
        "\n",
        "print(arr)\n",
        "\n",
        "print(type(arr))\n",
        "\n",
        "print(\"index 0 =\",arr[0])\n",
        "\n",
        "print(\"Sum of index 2 & 3 =\",arr[2] + arr[3])"
      ],
      "metadata": {
        "colab": {
          "base_uri": "https://localhost:8080/"
        },
        "id": "4mz3fhhVppjT",
        "outputId": "5c6d67e3-458c-4428-843c-f88f83cb25ed"
      },
      "execution_count": 38,
      "outputs": [
        {
          "output_type": "stream",
          "name": "stdout",
          "text": [
            "[ 1  2  3  4  5  6  7  8  9 10 11 12 13]\n",
            "<class 'numpy.ndarray'>\n",
            "index 0 = 1\n",
            "Sum of index 2 & 3 = 7\n"
          ]
        }
      ]
    },
    {
      "cell_type": "markdown",
      "source": [
        "* Slicing arrays\n",
        "* We pass slice instead of index like this: [start:end].\n",
        "* We can also define the step, like this: [start:end:step]."
      ],
      "metadata": {
        "id": "PFLX75zUq3ve"
      }
    },
    {
      "cell_type": "code",
      "source": [
        "print(arr[1:5]) #from index 1 to 4\n",
        "print(arr[3:]) #from index 3 to end\n",
        "print(arr[:5]) #for begging to 4th index excluding 5\n",
        "print(arr[-3:-1])\n",
        "print(arr[1::2]) #using step value to 1st index to end"
      ],
      "metadata": {
        "colab": {
          "base_uri": "https://localhost:8080/"
        },
        "id": "dENK7HdhrBr8",
        "outputId": "a7572d6f-3402-42c2-af14-b85a69e15e38"
      },
      "execution_count": 39,
      "outputs": [
        {
          "output_type": "stream",
          "name": "stdout",
          "text": [
            "[2 3 4 5]\n",
            "[ 4  5  6  7  8  9 10 11 12 13]\n",
            "[1 2 3 4 5]\n",
            "[11 12]\n",
            "[ 2  4  6  8 10 12]\n"
          ]
        }
      ]
    },
    {
      "cell_type": "markdown",
      "source": [
        "# 2-D Arrays"
      ],
      "metadata": {
        "id": "5vXqiXDbuWf5"
      }
    },
    {
      "cell_type": "code",
      "source": [
        "arr3 = np.array([[1, 2, 3, 4, 5], [6, 7, 8, 9, 10]])\n",
        "\n",
        "print(arr3[1, 1:4]) #1 means tupel assigned to the 1st index as well as 1:4 means slicing like print 1st index of 1st index tupel to 4th index of 1st index tupel\n",
        "print(arr3[0:2, 2]) #From both elements, return index 2\n",
        "print(arr3[0:2,2:4])#From both elements, return index 2 to 4"
      ],
      "metadata": {
        "colab": {
          "base_uri": "https://localhost:8080/"
        },
        "id": "VnEggSbiuWFY",
        "outputId": "66f7d76c-3061-4d52-9944-85203ce4d782"
      },
      "execution_count": 40,
      "outputs": [
        {
          "output_type": "stream",
          "name": "stdout",
          "text": [
            "[7 8 9]\n",
            "[3 8]\n",
            "[[3 4]\n",
            " [8 9]]\n"
          ]
        }
      ]
    },
    {
      "cell_type": "markdown",
      "source": [
        "* Checking the Data Type of an Array"
      ],
      "metadata": {
        "id": "0EXWMGCSvrlF"
      }
    },
    {
      "cell_type": "code",
      "source": [
        "print(\"Data Type is\",arr.dtype)"
      ],
      "metadata": {
        "colab": {
          "base_uri": "https://localhost:8080/"
        },
        "id": "gO0mFSOavtCU",
        "outputId": "b98db691-19f6-49de-c1f6-182561ab3169"
      },
      "execution_count": 41,
      "outputs": [
        {
          "output_type": "stream",
          "name": "stdout",
          "text": [
            "Data Type is int64\n"
          ]
        }
      ]
    },
    {
      "cell_type": "markdown",
      "source": [
        "create new String array"
      ],
      "metadata": {
        "id": "HP95GP90wqhZ"
      }
    },
    {
      "cell_type": "code",
      "source": [
        "fruits = np.array(['apple', 'banana', 'cherry']) #fruits\n",
        "fruits2 = np.array([\"apple\", \"banana\", \"cherry\"], dtype='S') #fruits as strings\n"
      ],
      "metadata": {
        "id": "Nzkcmk6kwC5z"
      },
      "execution_count": 42,
      "outputs": []
    },
    {
      "cell_type": "code",
      "source": [
        "print(\"data type is\", fruits.dtype)\n",
        "print(\"data type is\", fruits2.dtype)"
      ],
      "metadata": {
        "colab": {
          "base_uri": "https://localhost:8080/"
        },
        "id": "junGrEZawIAm",
        "outputId": "3caa62de-323b-4d42-ffb4-325e86e6d940"
      },
      "execution_count": 43,
      "outputs": [
        {
          "output_type": "stream",
          "name": "stdout",
          "text": [
            "data type is <U6\n",
            "data type is |S6\n"
          ]
        }
      ]
    },
    {
      "cell_type": "markdown",
      "source": [
        "* The **copy** SHOULD NOT be affected by the changes made to the original array."
      ],
      "metadata": {
        "id": "2CAauRtxJDWq"
      }
    },
    {
      "cell_type": "code",
      "source": [
        "x = arr.copy()\n",
        "arr[0] = 42\n",
        "\n",
        "print(\"Array\",arr)\n",
        "print(\"Copy\",x)"
      ],
      "metadata": {
        "id": "LOrn26TpIWXS",
        "outputId": "c4fa9d87-0018-4131-9509-d0a2244ac8dd",
        "colab": {
          "base_uri": "https://localhost:8080/"
        }
      },
      "execution_count": 44,
      "outputs": [
        {
          "output_type": "stream",
          "name": "stdout",
          "text": [
            "Array [42  2  3  4  5  6  7  8  9 10 11 12 13]\n",
            "Copy [ 1  2  3  4  5  6  7  8  9 10 11 12 13]\n"
          ]
        }
      ]
    },
    {
      "cell_type": "markdown",
      "source": [
        "* he view SHOULD be affected by the changes made to the original array"
      ],
      "metadata": {
        "id": "Tq-pnR_-JIxf"
      }
    },
    {
      "cell_type": "code",
      "source": [
        "x = arr.view()\n",
        "x[0] = 31\n",
        "\n",
        "print(arr)\n",
        "print(x)"
      ],
      "metadata": {
        "id": "pg0MWw_IJKm_",
        "outputId": "34ba9ec6-ea5c-4027-820c-3468489b5cd3",
        "colab": {
          "base_uri": "https://localhost:8080/"
        }
      },
      "execution_count": 45,
      "outputs": [
        {
          "output_type": "stream",
          "name": "stdout",
          "text": [
            "[31  2  3  4  5  6  7  8  9 10 11 12 13]\n",
            "[31  2  3  4  5  6  7  8  9 10 11 12 13]\n"
          ]
        }
      ]
    },
    {
      "cell_type": "markdown",
      "source": [
        "* Every NumPy array has the attribute **base** that returns None if the array owns the data.\n",
        "\n",
        "Otherwise, the base  attribute refers to the original object.\n",
        "\n"
      ],
      "metadata": {
        "id": "bzpWVIR4LNWw"
      }
    },
    {
      "cell_type": "code",
      "source": [
        "x = arr.copy()\n",
        "y = arr.view()\n",
        "\n",
        "print(x.base)\n",
        "print(y.base)"
      ],
      "metadata": {
        "id": "EJM7ZLXmKLSc",
        "outputId": "7bfa9c07-08fc-4f63-986c-5431df2ada88",
        "colab": {
          "base_uri": "https://localhost:8080/"
        }
      },
      "execution_count": 46,
      "outputs": [
        {
          "output_type": "stream",
          "name": "stdout",
          "text": [
            "None\n",
            "[31  2  3  4  5  6  7  8  9 10 11 12 13]\n"
          ]
        }
      ]
    },
    {
      "cell_type": "markdown",
      "source": [
        "#Shape of an Array\n",
        "The shape of an array is the number of elements in each dimension"
      ],
      "metadata": {
        "id": "A0DPk1LJkkjb"
      }
    },
    {
      "cell_type": "code",
      "source": [
        "print(\"Array :\", arr.shape) #this will print that array has 13 items\n",
        "print(\"Array 2d:\", arr3.shape)"
      ],
      "metadata": {
        "id": "L5nati2fkjj2",
        "outputId": "10a05fac-0b02-43cb-87a1-785112bde94a",
        "colab": {
          "base_uri": "https://localhost:8080/"
        }
      },
      "execution_count": 47,
      "outputs": [
        {
          "output_type": "stream",
          "name": "stdout",
          "text": [
            "Array : (13,)\n",
            "Array 2d: (2, 5)\n"
          ]
        }
      ]
    },
    {
      "cell_type": "markdown",
      "source": [
        "\n",
        "# Reshape From 1-D to 2-D\n",
        "* Convert the following 1-D array with 12 elements into a 2-D array."
      ],
      "metadata": {
        "id": "4Sx8sV_hl1_6"
      }
    },
    {
      "cell_type": "code",
      "source": [
        "arr4 = np.array([1, 2, 3, 4, 5, 6, 7, 8, 9, 10, 11, 12])\n",
        "\n",
        "newarr = arr4.reshape(4, 3)\n",
        "\n",
        "print(newarr)"
      ],
      "metadata": {
        "id": "W-pbdBgCl2lE",
        "outputId": "1b6d6492-1ffa-4d3c-eaca-a96f74c899d4",
        "colab": {
          "base_uri": "https://localhost:8080/"
        }
      },
      "execution_count": 48,
      "outputs": [
        {
          "output_type": "stream",
          "name": "stdout",
          "text": [
            "[[ 1  2  3]\n",
            " [ 4  5  6]\n",
            " [ 7  8  9]\n",
            " [10 11 12]]\n"
          ]
        }
      ]
    },
    {
      "cell_type": "markdown",
      "source": [
        "* Convert the following 1-D array with 12 elements into a 3-D array."
      ],
      "metadata": {
        "id": "SZoWNpNFmNV8"
      }
    },
    {
      "cell_type": "code",
      "source": [
        "arr = np.array([1, 2, 3, 4, 5, 6, 7, 8, 9, 10, 11, 12])\n",
        "\n",
        "newarr = arr.reshape(2, 3, 2)\n",
        "\n",
        "print(newarr)"
      ],
      "metadata": {
        "id": "I2Slaq7WmOCp",
        "outputId": "475e49f3-351e-41af-d823-b7daf32c14b2",
        "colab": {
          "base_uri": "https://localhost:8080/"
        }
      },
      "execution_count": 49,
      "outputs": [
        {
          "output_type": "stream",
          "name": "stdout",
          "text": [
            "[[[ 1  2]\n",
            "  [ 3  4]\n",
            "  [ 5  6]]\n",
            "\n",
            " [[ 7  8]\n",
            "  [ 9 10]\n",
            "  [11 12]]]\n"
          ]
        }
      ]
    },
    {
      "cell_type": "markdown",
      "source": [
        "**Check if the returned array is a copy or a view**"
      ],
      "metadata": {
        "id": "aJcxx8Pcmc59"
      }
    },
    {
      "cell_type": "code",
      "source": [
        "arr5 = np.array([1, 2, 3, 4, 5, 6, 7, 8])\n",
        "\n",
        "print(arr5.reshape(2, 4).base)"
      ],
      "metadata": {
        "id": "xVL758n6mbEG",
        "outputId": "13a60a50-165e-484f-d057-42d641b642cf",
        "colab": {
          "base_uri": "https://localhost:8080/"
        }
      },
      "execution_count": 50,
      "outputs": [
        {
          "output_type": "stream",
          "name": "stdout",
          "text": [
            "[1 2 3 4 5 6 7 8]\n"
          ]
        }
      ]
    },
    {
      "cell_type": "markdown",
      "source": [
        "# Array Iterating"
      ],
      "metadata": {
        "id": "XMynk5uXmq62"
      }
    },
    {
      "cell_type": "code",
      "source": [
        "for x in arr: #Iterating 1D array\n",
        "  print(x)"
      ],
      "metadata": {
        "id": "-7qch8W-msjN",
        "outputId": "354362c4-d465-41cc-cf72-c2f02a8354cc",
        "colab": {
          "base_uri": "https://localhost:8080/"
        }
      },
      "execution_count": 51,
      "outputs": [
        {
          "output_type": "stream",
          "name": "stdout",
          "text": [
            "1\n",
            "2\n",
            "3\n",
            "4\n",
            "5\n",
            "6\n",
            "7\n",
            "8\n",
            "9\n",
            "10\n",
            "11\n",
            "12\n"
          ]
        }
      ]
    },
    {
      "cell_type": "code",
      "source": [
        "for x in arr3: #Literating 3D array\n",
        "  print(x)"
      ],
      "metadata": {
        "id": "KY39vKMzm-rU",
        "outputId": "c25b5a87-2ae6-4bce-f08a-435d24e7bac0",
        "colab": {
          "base_uri": "https://localhost:8080/"
        }
      },
      "execution_count": 52,
      "outputs": [
        {
          "output_type": "stream",
          "name": "stdout",
          "text": [
            "[1 2 3 4 5]\n",
            "[ 6  7  8  9 10]\n"
          ]
        }
      ]
    },
    {
      "cell_type": "code",
      "source": [
        "arr7 = np.array([[[1, 2, 3], [4, 5, 6]], [[7, 8, 9], [10, 11, 12]]])\n",
        "\n",
        "for x in arr7:\n",
        "  for y in x:\n",
        "    for z in y:\n",
        "      print(z)"
      ],
      "metadata": {
        "id": "KHvkrsakoauQ",
        "outputId": "c3171714-c99c-4013-e8c6-a1ef63c3bd0f",
        "colab": {
          "base_uri": "https://localhost:8080/"
        }
      },
      "execution_count": 53,
      "outputs": [
        {
          "output_type": "stream",
          "name": "stdout",
          "text": [
            "1\n",
            "2\n",
            "3\n",
            "4\n",
            "5\n",
            "6\n",
            "7\n",
            "8\n",
            "9\n",
            "10\n",
            "11\n",
            "12\n"
          ]
        }
      ]
    },
    {
      "cell_type": "markdown",
      "source": [
        "# Joining Array\n",
        "* concatenate() function"
      ],
      "metadata": {
        "id": "lRuCsxqNo4I2"
      }
    },
    {
      "cell_type": "code",
      "source": [
        "arr1 = np.array([1, 2, 3])\n",
        "\n",
        "arr2 = np.array([4, 5, 6])\n",
        "\n",
        "arr = np.concatenate((arr1, arr2))\n",
        "\n",
        "print(arr)"
      ],
      "metadata": {
        "id": "EIzXJ--Io5ko",
        "outputId": "81aa66f5-69f0-4be1-a34b-7ad7055daff5",
        "colab": {
          "base_uri": "https://localhost:8080/"
        }
      },
      "execution_count": 54,
      "outputs": [
        {
          "output_type": "stream",
          "name": "stdout",
          "text": [
            "[1 2 3 4 5 6]\n"
          ]
        }
      ]
    }
  ]
}